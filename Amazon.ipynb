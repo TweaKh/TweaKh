{
  "nbformat": 4,
  "nbformat_minor": 0,
  "metadata": {
    "colab": {
      "name": "Amazon.ipynb",
      "provenance": [],
      "authorship_tag": "ABX9TyNXQfM5XGWERTu6kanZboeL",
      "include_colab_link": true
    },
    "kernelspec": {
      "name": "python3",
      "display_name": "Python 3"
    },
    "language_info": {
      "name": "python"
    }
  },
  "cells": [
    {
      "cell_type": "markdown",
      "metadata": {
        "id": "view-in-github",
        "colab_type": "text"
      },
      "source": [
        "<a href=\"https://colab.research.google.com/github/TweaKh/TweaKh/blob/main/Amazon.ipynb\" target=\"_parent\"><img src=\"https://colab.research.google.com/assets/colab-badge.svg\" alt=\"Open In Colab\"/></a>"
      ]
    },
    {
      "cell_type": "code",
      "execution_count": 7,
      "metadata": {
        "colab": {
          "base_uri": "https://localhost:8080/",
          "height": 668
        },
        "id": "US2oSVtd9bdz",
        "outputId": "ec0fc778-40da-45e9-ae7a-b3f6c5ba5c81"
      },
      "outputs": [
        {
          "output_type": "display_data",
          "data": {
            "text/html": [
              "\n",
              "<div>\n",
              "<td> \n",
              "<img src=\"https://marcas-logos.net/wp-content/uploads/2020/01/Amazon-Logo-1-2048x1279.png\" style=\"padding-right:10px;width:1000px;float:left\"/></td>\n",
              "<h2 style=\"white-space: nowrap\">Business Intelligence and Analytics</h2></td>\n",
              "<hr style=\"clear:both\">\n",
              "<p style=\"font-size:0.85em; margin:2px; text-align:center\">\n",
              "\n",
              "</div>"
            ],
            "text/plain": [
              "<IPython.core.display.HTML object>"
            ]
          },
          "metadata": {}
        }
      ],
      "source": [
        "#@title Walkthrough - Lab 1\n",
        "\n",
        "%%html\n",
        "\n",
        "<div>\n",
        "<td> \n",
        "<img src=\"https://marcas-logos.net/wp-content/uploads/2020/01/Amazon-Logo-1-2048x1279.png\" style=\"padding-right:10px;width:1000px;float:left\"/></td>\n",
        "<h2 style=\"white-space: nowrap\">Business Intelligence and Analytics</h2></td>\n",
        "<hr style=\"clear:both\">\n",
        "<p style=\"font-size:0.85em; margin:2px; text-align:justify\">\n",
        "\n",
        "</div>"
      ]
    },
    {
      "cell_type": "code",
      "source": [
        ""
      ],
      "metadata": {
        "id": "qdcsFrci9ibP"
      },
      "execution_count": null,
      "outputs": []
    }
  ]
}