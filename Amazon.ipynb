{
  "nbformat": 4,
  "nbformat_minor": 0,
  "metadata": {
    "colab": {
      "name": "Amazon.ipynb",
      "provenance": [],
      "collapsed_sections": [],
      "authorship_tag": "ABX9TyOycha4UbBd3NwNVFAZLOrA",
      "include_colab_link": true
    },
    "kernelspec": {
      "name": "python3",
      "display_name": "Python 3"
    },
    "language_info": {
      "name": "python"
    }
  },
  "cells": [
    {
      "cell_type": "markdown",
      "metadata": {
        "id": "view-in-github",
        "colab_type": "text"
      },
      "source": [
        "<a href=\"https://colab.research.google.com/github/TweaKh/TweaKh/blob/main/Amazon.ipynb\" target=\"_parent\"><img src=\"https://colab.research.google.com/assets/colab-badge.svg\" alt=\"Open In Colab\"/></a>"
      ]
    },
    {
      "cell_type": "code",
      "execution_count": 31,
      "metadata": {
        "colab": {
          "base_uri": "https://localhost:8080/",
          "height": 701
        },
        "id": "US2oSVtd9bdz",
        "outputId": "6a026375-79b3-4564-8b91-bdd4f4c81bec"
      },
      "outputs": [
        {
          "output_type": "display_data",
          "data": {
            "text/html": [
              "\n",
              "<div>\n",
              "<td> \n",
              "<h2 style=\"white-space: nowrap\">Business Intelligence and Analytics</h2></td>\n",
              "<hr style=\"clear:both\">\n",
              "<p style=\"font-size:0.85em; margin:2px; text-align:center\">\n",
              "<img src=\"https://marcas-logos.net/wp-content/uploads/2020/01/Amazon-Logo-1-2048x1279.png\" style=\"padding-right:10px;width:1000px;float:left\"/></td>\n",
              "\n",
              "\n",
              "</div>"
            ],
            "text/plain": [
              "<IPython.core.display.HTML object>"
            ]
          },
          "metadata": {}
        }
      ],
      "source": [
        "#@title Walkthrough - Lab 1\n",
        "\n",
        "%%html\n",
        "\n",
        "<div>\n",
        "<td> \n",
        "<h2 style=\"white-space: nowrap\">Business Intelligence and Analytics</h2></td>\n",
        "<hr style=\"clear:both\">\n",
        "<p style=\"font-size:0.85em; margin:2px; text-align:center\">\n",
        "<img src=\"https://marcas-logos.net/wp-content/uploads/2020/01/Amazon-Logo-1-2048x1279.png\" style=\"padding-right:10px;width:1000px;float:left\"/></td>\n",
        "\n",
        "\n",
        "</div>"
      ]
    },
    {
      "cell_type": "markdown",
      "source": [
        "## <a class=\"anchor\"></a> Description :\n",
        "\n",
        "\n",
        "\n",
        "\n",
        "\n"
      ],
      "metadata": {
        "id": "qdcsFrci9ibP"
      }
    },
    {
      "cell_type": "markdown",
      "source": [
        "> **Amazon.com**, Inc is an American multinational technology company based in Seattle, Washington, which focuses on e-commerce, cloud computing, digital streaming, and artificial intelligence.\n",
        "\n",
        "> It is one of the Big Five companies in the I.S. information technology industry, along with Google, Apple, Microsoft, and Facebook. The company has been referred to as \"one of the most influential economic and cultural forces in the world\", as well as the world's most valuable brand.\n",
        "\n",
        "> **Amazon** was founded by `Jeff Bezos` in **Bellevue, Washington**, on *July 5, 1994.* It started as an online marketplace for books but expanded to sell electronics, software, video games, apparel, furniture, food, toys and jewelry.\n",
        "\n",
        "- In 2015, Amazon surpassed Walmart as the most valuable retailer in the United States by market capitalization.\n",
        "- In 2017, Amazon acquired Whole Foods Market for US$13.4 billion, which substantially increased its footprint as a physical retailer.\n",
        "- In 2018, its two-day delivery service, Amazon Prime, surpassed 100 million subscribers worldwide.\n",
        "\n",
        "Amazon distributes downloads and streaming of video, music and audiobooks through it's [Prime Video](https://www.primevideo.com/), [Twitch](https://www.twitch.tv/), and others. Amazon  also has a cloud computing subsidiary, [Amazon Web Services](https://aws.amazon.com/)."
      ],
      "metadata": {
        "id": "WcfrL84CEtUM"
      }
    },
    {
      "cell_type": "markdown",
      "source": [
        "# <a class=\"anchor\"></a> News\n",
        "- Amazon: The unstoppable rise of the internet giant (read [article](https://www.bbc.co.uk/news/business-55927979))\n",
        "- Jeff Bezos: Read Amazon founder's letter to employees (read [article](https://edition.cnn.com/2021/02/02/business/jeff-bezos-letter-to-employees))\n"
      ],
      "metadata": {
        "id": "H_NrnwEfEvQ2"
      }
    },
    {
      "cell_type": "markdown",
      "source": [
        "# <a class=\"anchor\"></a> Key Executives"
      ],
      "metadata": {
        "id": "uQlaoELJFI8K"
      }
    },
    {
      "cell_type": "markdown",
      "source": [
        "| Name | Title | Total compensation |\n",
        "| :---: | :---: | :---: |\n",
        "| Mr. Jeffrey P. Bezos | Chief Executive Officer, Director | 1,681 M |\n",
        "| Mr. Andrew R. Jassy | Chief Executive Officer of Amazon Web Services | 35,61m |\n",
        "| Mr. Jeffrey Blackburn | Senior Vice-President of Business Development. Entertainment | 22.19M |\n",
        "|Mr. Jeffrey A. Wilke | Sr. Advisor | 210,725k |"
      ],
      "metadata": {
        "id": "gpK34bfVFL64"
      }
    },
    {
      "cell_type": "code",
      "source": [
        "## Videos Before you can find a video from a *recent event**.\n",
        "%%HTML\n",
        "<iframer widt=\"560\" height=\"315\" src=\"https://www.youtube.com/watch?v=a9__D53WsUs&t=2s\" frameborder=\"0\"\n",
        "allow=\"accelerometer: autoplay; clipboard-write, encrypted-media; gyroscope; picture-in-picture\" allowfullscreen></iframe>"
      ],
      "metadata": {
        "colab": {
          "base_uri": "https://localhost:8080/",
          "height": 17
        },
        "id": "7pjUs_7XGYNR",
        "outputId": "b687f254-98c4-4167-d318-6f7340b5aec9"
      },
      "execution_count": 32,
      "outputs": [
        {
          "output_type": "display_data",
          "data": {
            "text/html": [
              "<iframer widt=\"560\" height=\"315\" src=\"https://www.youtube.com/watch?v=a9__D53WsUs&t=2s\" frameborder=\"0\"\n",
              "allow=\"accelerometer: autoplay; clipboard-write, encrypted-media; gyroscope; picture-in-picture\" allowfullscreen></iframe>"
            ],
            "text/plain": [
              "<IPython.core.display.HTML object>"
            ]
          },
          "metadata": {}
        }
      ]
    },
    {
      "cell_type": "code",
      "source": [
        ""
      ],
      "metadata": {
        "id": "zSV0NuM2HzDt"
      },
      "execution_count": null,
      "outputs": []
    }
  ]
}